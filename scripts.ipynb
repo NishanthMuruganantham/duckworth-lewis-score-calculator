{
 "cells": [
  {
   "cell_type": "markdown",
   "id": "d00da0b8-14f3-4b67-970b-73a57e4ef9ac",
   "metadata": {},
   "source": [
    "## Functions to derive DLS par score in T20 Matches"
   ]
  },
  {
   "cell_type": "markdown",
   "id": "ed2f85cd-cb0f-4705-9409-8c6aa6923415",
   "metadata": {},
   "source": [
    "### Importing Libraries"
   ]
  },
  {
   "cell_type": "code",
   "execution_count": 1,
   "id": "24cfaebe-d147-41b2-863d-bd1a08449259",
   "metadata": {},
   "outputs": [],
   "source": [
    "import pandas as pd\n",
    "import numpy as np"
   ]
  },
  {
   "cell_type": "markdown",
   "id": "24ebd4c5-79f4-42f5-b8c7-cb9e6e9dc677",
   "metadata": {},
   "source": [
    "### Fetching DLS resource data"
   ]
  },
  {
   "cell_type": "code",
   "execution_count": 2,
   "id": "f72f260b-ed59-4f5d-9735-282e64620915",
   "metadata": {},
   "outputs": [
    {
     "data": {
      "text/html": [
       "<div>\n",
       "<style scoped>\n",
       "    .dataframe tbody tr th:only-of-type {\n",
       "        vertical-align: middle;\n",
       "    }\n",
       "\n",
       "    .dataframe tbody tr th {\n",
       "        vertical-align: top;\n",
       "    }\n",
       "\n",
       "    .dataframe thead th {\n",
       "        text-align: right;\n",
       "    }\n",
       "</style>\n",
       "<table border=\"1\" class=\"dataframe\">\n",
       "  <thead>\n",
       "    <tr style=\"text-align: right;\">\n",
       "      <th></th>\n",
       "      <th>balls</th>\n",
       "      <th>0</th>\n",
       "      <th>1</th>\n",
       "      <th>2</th>\n",
       "      <th>3</th>\n",
       "      <th>4</th>\n",
       "      <th>5</th>\n",
       "      <th>6</th>\n",
       "      <th>7</th>\n",
       "      <th>8</th>\n",
       "      <th>9</th>\n",
       "    </tr>\n",
       "  </thead>\n",
       "  <tbody>\n",
       "    <tr>\n",
       "      <th>0</th>\n",
       "      <td>120</td>\n",
       "      <td>100.0</td>\n",
       "      <td>96.8</td>\n",
       "      <td>92.6</td>\n",
       "      <td>86.7</td>\n",
       "      <td>78.8</td>\n",
       "      <td>68.2</td>\n",
       "      <td>54.4</td>\n",
       "      <td>37.5</td>\n",
       "      <td>21.3</td>\n",
       "      <td>8.3</td>\n",
       "    </tr>\n",
       "    <tr>\n",
       "      <th>1</th>\n",
       "      <td>114</td>\n",
       "      <td>96.1</td>\n",
       "      <td>93.3</td>\n",
       "      <td>89.2</td>\n",
       "      <td>83.9</td>\n",
       "      <td>76.7</td>\n",
       "      <td>66.6</td>\n",
       "      <td>53.5</td>\n",
       "      <td>37.3</td>\n",
       "      <td>21.0</td>\n",
       "      <td>8.3</td>\n",
       "    </tr>\n",
       "    <tr>\n",
       "      <th>2</th>\n",
       "      <td>108</td>\n",
       "      <td>92.2</td>\n",
       "      <td>89.6</td>\n",
       "      <td>85.9</td>\n",
       "      <td>81.1</td>\n",
       "      <td>74.2</td>\n",
       "      <td>65.0</td>\n",
       "      <td>52.7</td>\n",
       "      <td>36.9</td>\n",
       "      <td>21.0</td>\n",
       "      <td>8.3</td>\n",
       "    </tr>\n",
       "    <tr>\n",
       "      <th>3</th>\n",
       "      <td>102</td>\n",
       "      <td>88.2</td>\n",
       "      <td>85.7</td>\n",
       "      <td>82.5</td>\n",
       "      <td>77.9</td>\n",
       "      <td>71.7</td>\n",
       "      <td>63.3</td>\n",
       "      <td>51.6</td>\n",
       "      <td>36.6</td>\n",
       "      <td>21.0</td>\n",
       "      <td>8.3</td>\n",
       "    </tr>\n",
       "    <tr>\n",
       "      <th>4</th>\n",
       "      <td>96</td>\n",
       "      <td>84.1</td>\n",
       "      <td>81.8</td>\n",
       "      <td>79.0</td>\n",
       "      <td>74.7</td>\n",
       "      <td>69.1</td>\n",
       "      <td>61.3</td>\n",
       "      <td>50.4</td>\n",
       "      <td>36.2</td>\n",
       "      <td>20.8</td>\n",
       "      <td>8.3</td>\n",
       "    </tr>\n",
       "    <tr>\n",
       "      <th>5</th>\n",
       "      <td>90</td>\n",
       "      <td>79.9</td>\n",
       "      <td>77.9</td>\n",
       "      <td>75.3</td>\n",
       "      <td>71.6</td>\n",
       "      <td>66.4</td>\n",
       "      <td>59.2</td>\n",
       "      <td>49.1</td>\n",
       "      <td>35.7</td>\n",
       "      <td>20.8</td>\n",
       "      <td>8.3</td>\n",
       "    </tr>\n",
       "    <tr>\n",
       "      <th>6</th>\n",
       "      <td>84</td>\n",
       "      <td>75.4</td>\n",
       "      <td>73.7</td>\n",
       "      <td>71.4</td>\n",
       "      <td>68.0</td>\n",
       "      <td>63.4</td>\n",
       "      <td>56.9</td>\n",
       "      <td>47.7</td>\n",
       "      <td>35.2</td>\n",
       "      <td>20.8</td>\n",
       "      <td>8.3</td>\n",
       "    </tr>\n",
       "    <tr>\n",
       "      <th>7</th>\n",
       "      <td>78</td>\n",
       "      <td>71.0</td>\n",
       "      <td>69.4</td>\n",
       "      <td>67.3</td>\n",
       "      <td>64.5</td>\n",
       "      <td>60.4</td>\n",
       "      <td>54.4</td>\n",
       "      <td>46.1</td>\n",
       "      <td>34.5</td>\n",
       "      <td>20.7</td>\n",
       "      <td>8.3</td>\n",
       "    </tr>\n",
       "    <tr>\n",
       "      <th>8</th>\n",
       "      <td>72</td>\n",
       "      <td>66.4</td>\n",
       "      <td>65.0</td>\n",
       "      <td>63.3</td>\n",
       "      <td>60.6</td>\n",
       "      <td>57.1</td>\n",
       "      <td>51.9</td>\n",
       "      <td>44.3</td>\n",
       "      <td>33.6</td>\n",
       "      <td>20.5</td>\n",
       "      <td>8.3</td>\n",
       "    </tr>\n",
       "    <tr>\n",
       "      <th>9</th>\n",
       "      <td>66</td>\n",
       "      <td>61.7</td>\n",
       "      <td>60.4</td>\n",
       "      <td>59.0</td>\n",
       "      <td>56.7</td>\n",
       "      <td>53.7</td>\n",
       "      <td>49.1</td>\n",
       "      <td>42.4</td>\n",
       "      <td>32.7</td>\n",
       "      <td>20.3</td>\n",
       "      <td>8.3</td>\n",
       "    </tr>\n",
       "    <tr>\n",
       "      <th>10</th>\n",
       "      <td>60</td>\n",
       "      <td>56.7</td>\n",
       "      <td>55.8</td>\n",
       "      <td>54.4</td>\n",
       "      <td>52.7</td>\n",
       "      <td>50.0</td>\n",
       "      <td>46.1</td>\n",
       "      <td>40.3</td>\n",
       "      <td>31.6</td>\n",
       "      <td>20.1</td>\n",
       "      <td>8.3</td>\n",
       "    </tr>\n",
       "    <tr>\n",
       "      <th>11</th>\n",
       "      <td>54</td>\n",
       "      <td>51.8</td>\n",
       "      <td>51.1</td>\n",
       "      <td>49.8</td>\n",
       "      <td>48.4</td>\n",
       "      <td>46.1</td>\n",
       "      <td>42.8</td>\n",
       "      <td>37.8</td>\n",
       "      <td>30.2</td>\n",
       "      <td>19.8</td>\n",
       "      <td>8.3</td>\n",
       "    </tr>\n",
       "    <tr>\n",
       "      <th>12</th>\n",
       "      <td>48</td>\n",
       "      <td>46.6</td>\n",
       "      <td>45.9</td>\n",
       "      <td>45.1</td>\n",
       "      <td>43.8</td>\n",
       "      <td>42.0</td>\n",
       "      <td>39.4</td>\n",
       "      <td>35.2</td>\n",
       "      <td>28.6</td>\n",
       "      <td>19.3</td>\n",
       "      <td>8.3</td>\n",
       "    </tr>\n",
       "    <tr>\n",
       "      <th>13</th>\n",
       "      <td>42</td>\n",
       "      <td>41.3</td>\n",
       "      <td>40.8</td>\n",
       "      <td>40.1</td>\n",
       "      <td>39.2</td>\n",
       "      <td>37.8</td>\n",
       "      <td>35.5</td>\n",
       "      <td>32.2</td>\n",
       "      <td>26.9</td>\n",
       "      <td>18.6</td>\n",
       "      <td>8.3</td>\n",
       "    </tr>\n",
       "    <tr>\n",
       "      <th>14</th>\n",
       "      <td>36</td>\n",
       "      <td>35.9</td>\n",
       "      <td>35.5</td>\n",
       "      <td>35.0</td>\n",
       "      <td>34.3</td>\n",
       "      <td>33.2</td>\n",
       "      <td>31.4</td>\n",
       "      <td>29.0</td>\n",
       "      <td>24.6</td>\n",
       "      <td>17.8</td>\n",
       "      <td>8.1</td>\n",
       "    </tr>\n",
       "    <tr>\n",
       "      <th>15</th>\n",
       "      <td>30</td>\n",
       "      <td>30.4</td>\n",
       "      <td>30.0</td>\n",
       "      <td>29.7</td>\n",
       "      <td>29.2</td>\n",
       "      <td>28.4</td>\n",
       "      <td>27.2</td>\n",
       "      <td>25.3</td>\n",
       "      <td>22.1</td>\n",
       "      <td>16.6</td>\n",
       "      <td>8.1</td>\n",
       "    </tr>\n",
       "    <tr>\n",
       "      <th>16</th>\n",
       "      <td>24</td>\n",
       "      <td>24.6</td>\n",
       "      <td>24.4</td>\n",
       "      <td>24.2</td>\n",
       "      <td>23.9</td>\n",
       "      <td>23.3</td>\n",
       "      <td>22.4</td>\n",
       "      <td>21.2</td>\n",
       "      <td>18.9</td>\n",
       "      <td>14.8</td>\n",
       "      <td>8.0</td>\n",
       "    </tr>\n",
       "    <tr>\n",
       "      <th>17</th>\n",
       "      <td>18</td>\n",
       "      <td>18.7</td>\n",
       "      <td>18.6</td>\n",
       "      <td>18.4</td>\n",
       "      <td>18.2</td>\n",
       "      <td>18.0</td>\n",
       "      <td>17.5</td>\n",
       "      <td>16.8</td>\n",
       "      <td>15.4</td>\n",
       "      <td>12.7</td>\n",
       "      <td>7.4</td>\n",
       "    </tr>\n",
       "    <tr>\n",
       "      <th>18</th>\n",
       "      <td>12</td>\n",
       "      <td>12.7</td>\n",
       "      <td>12.5</td>\n",
       "      <td>12.5</td>\n",
       "      <td>12.4</td>\n",
       "      <td>12.4</td>\n",
       "      <td>12.0</td>\n",
       "      <td>11.7</td>\n",
       "      <td>11.0</td>\n",
       "      <td>9.7</td>\n",
       "      <td>6.5</td>\n",
       "    </tr>\n",
       "    <tr>\n",
       "      <th>19</th>\n",
       "      <td>6</td>\n",
       "      <td>6.4</td>\n",
       "      <td>6.4</td>\n",
       "      <td>6.4</td>\n",
       "      <td>6.4</td>\n",
       "      <td>6.4</td>\n",
       "      <td>6.2</td>\n",
       "      <td>6.2</td>\n",
       "      <td>6.0</td>\n",
       "      <td>5.7</td>\n",
       "      <td>4.4</td>\n",
       "    </tr>\n",
       "    <tr>\n",
       "      <th>20</th>\n",
       "      <td>0</td>\n",
       "      <td>0.0</td>\n",
       "      <td>0.0</td>\n",
       "      <td>0.0</td>\n",
       "      <td>0.0</td>\n",
       "      <td>0.0</td>\n",
       "      <td>0.0</td>\n",
       "      <td>0.0</td>\n",
       "      <td>0.0</td>\n",
       "      <td>0.0</td>\n",
       "      <td>0.0</td>\n",
       "    </tr>\n",
       "  </tbody>\n",
       "</table>\n",
       "</div>"
      ],
      "text/plain": [
       "    balls      0     1     2     3     4     5     6     7     8    9\n",
       "0     120  100.0  96.8  92.6  86.7  78.8  68.2  54.4  37.5  21.3  8.3\n",
       "1     114   96.1  93.3  89.2  83.9  76.7  66.6  53.5  37.3  21.0  8.3\n",
       "2     108   92.2  89.6  85.9  81.1  74.2  65.0  52.7  36.9  21.0  8.3\n",
       "3     102   88.2  85.7  82.5  77.9  71.7  63.3  51.6  36.6  21.0  8.3\n",
       "4      96   84.1  81.8  79.0  74.7  69.1  61.3  50.4  36.2  20.8  8.3\n",
       "5      90   79.9  77.9  75.3  71.6  66.4  59.2  49.1  35.7  20.8  8.3\n",
       "6      84   75.4  73.7  71.4  68.0  63.4  56.9  47.7  35.2  20.8  8.3\n",
       "7      78   71.0  69.4  67.3  64.5  60.4  54.4  46.1  34.5  20.7  8.3\n",
       "8      72   66.4  65.0  63.3  60.6  57.1  51.9  44.3  33.6  20.5  8.3\n",
       "9      66   61.7  60.4  59.0  56.7  53.7  49.1  42.4  32.7  20.3  8.3\n",
       "10     60   56.7  55.8  54.4  52.7  50.0  46.1  40.3  31.6  20.1  8.3\n",
       "11     54   51.8  51.1  49.8  48.4  46.1  42.8  37.8  30.2  19.8  8.3\n",
       "12     48   46.6  45.9  45.1  43.8  42.0  39.4  35.2  28.6  19.3  8.3\n",
       "13     42   41.3  40.8  40.1  39.2  37.8  35.5  32.2  26.9  18.6  8.3\n",
       "14     36   35.9  35.5  35.0  34.3  33.2  31.4  29.0  24.6  17.8  8.1\n",
       "15     30   30.4  30.0  29.7  29.2  28.4  27.2  25.3  22.1  16.6  8.1\n",
       "16     24   24.6  24.4  24.2  23.9  23.3  22.4  21.2  18.9  14.8  8.0\n",
       "17     18   18.7  18.6  18.4  18.2  18.0  17.5  16.8  15.4  12.7  7.4\n",
       "18     12   12.7  12.5  12.5  12.4  12.4  12.0  11.7  11.0   9.7  6.5\n",
       "19      6    6.4   6.4   6.4   6.4   6.4   6.2   6.2   6.0   5.7  4.4\n",
       "20      0    0.0   0.0   0.0   0.0   0.0   0.0   0.0   0.0   0.0  0.0"
      ]
     },
     "execution_count": 2,
     "metadata": {},
     "output_type": "execute_result"
    }
   ],
   "source": [
    "resource_table_df = pd.read_csv(f\"dls_resource_data_for_t20s.csv\")\n",
    "resource_table_df"
   ]
  },
  {
   "cell_type": "markdown",
   "id": "78758a6b-35f7-4363-a582-cedbb766dab9",
   "metadata": {},
   "source": [
    "### function to convert from overs to balls"
   ]
  },
  {
   "cell_type": "code",
   "execution_count": 3,
   "id": "8e9d3463-5267-4956-9313-1371ddd2f41d",
   "metadata": {},
   "outputs": [],
   "source": [
    "def convert_overs_to_balls(overs):\n",
    "    integer_part = int(overs)\n",
    "    decimal_part = overs - integer_part\n",
    "    balls = integer_part * 6 + round(decimal_part * 10)\n",
    "    return balls"
   ]
  },
  {
   "cell_type": "markdown",
   "id": "e020f726-382d-436a-990d-93af6efe0135",
   "metadata": {},
   "source": [
    "### function to convert from balls to overs"
   ]
  },
  {
   "cell_type": "code",
   "execution_count": 4,
   "id": "b483689f-482b-4c80-b9e8-637edfe5b92e",
   "metadata": {},
   "outputs": [],
   "source": [
    "def convert_balls_to_overs(balls):\n",
    "    overs = balls//6 + balls%6 * 0.1\n",
    "    return overs"
   ]
  },
  {
   "cell_type": "markdown",
   "id": "ab9c5354-b722-431b-94b3-643ef05aa6cc",
   "metadata": {},
   "source": [
    "### Scenario 1 --> Finding the parscore when First Innings is completed and Second innings is interrupted in the Middle"
   ]
  },
  {
   "cell_type": "code",
   "execution_count": 5,
   "id": "bf6f0ef6-8c67-4e36-b542-4bfe6044c42b",
   "metadata": {},
   "outputs": [],
   "source": [
    "def get_par_score_when_first_innings_is_completed_and_second_innings_is_interrupted(\n",
    "    overs_available_to_team_one,\n",
    "    runs_scored_by_team_one,\n",
    "    overs_available_to_team_two_at_start,\n",
    "    overs_used_by_team_two_until_interruption,\n",
    "    wickets_lost_by_team_two,\n",
    "    maximum_overs_allotted_to_team_two_after_resumption\n",
    "):\n",
    "    resource_for_0_wickets_lost = resource_table_df[\"0\"][::-1]\n",
    "    \n",
    "    balls_available_to_team_one_at_start = convert_overs_to_balls(overs_available_to_team_one)\n",
    "    balls_available_to_team_two_at_start = convert_overs_to_balls(overs_available_to_team_two_at_start)\n",
    "    balls_used_by_team_two_until_interruption = convert_overs_to_balls(overs_used_by_team_two_until_interruption)\n",
    "    balls_remaining_to_team_two_during_interruption = balls_available_to_team_two_at_start - balls_used_by_team_two_until_interruption\n",
    "    maximum_balls_alloted_to_team_two_after_resumption = convert_overs_to_balls(maximum_overs_allotted_to_team_two_after_resumption)\n",
    "    balls_remaining_to_team_two_after_resumption = maximum_balls_alloted_to_team_two_after_resumption - balls_used_by_team_two_until_interruption\n",
    "    \n",
    "    total_resource_available_to_team_one_at_start = np.interp(\n",
    "        balls_available_to_team_one_at_start, resource_table_df[\"balls\"][::-1], resource_for_0_wickets_lost\n",
    "    )\n",
    "    total_resource_available_to_team_two_at_start = np.interp(\n",
    "        balls_available_to_team_two_at_start, resource_table_df[\"balls\"][::-1], resource_for_0_wickets_lost\n",
    "    )\n",
    "    \n",
    "    team_two_remaining_resource_during_interruption = np.interp(\n",
    "        balls_remaining_to_team_two_during_interruption,\n",
    "        resource_table_df[\"balls\"][::-1],\n",
    "        resource_table_df[f\"{wickets_lost_by_team_two}\"][::-1]\n",
    "    )\n",
    "    team_two_remaining_resource_during_resumption = np.interp(\n",
    "        balls_remaining_to_team_two_after_resumption,\n",
    "        resource_table_df[\"balls\"][::-1],\n",
    "        resource_table_df[f\"{wickets_lost_by_team_two}\"][::-1]\n",
    "    )\n",
    "    \n",
    "    resource_lost_by_team_two_due_to_interruption = team_two_remaining_resource_during_interruption - team_two_remaining_resource_during_resumption\n",
    "    total_resource_remaining_to_team_two = total_resource_available_to_team_two_at_start - resource_lost_by_team_two_due_to_interruption\n",
    "    \n",
    "    par_score = runs_scored_by_team_one * (total_resource_remaining_to_team_two/total_resource_available_to_team_one_at_start)\n",
    "    \n",
    "    return par_score\n"
   ]
  },
  {
   "cell_type": "code",
   "execution_count": 6,
   "id": "a42678d8-0d20-4362-af5b-db54373ae706",
   "metadata": {},
   "outputs": [
    {
     "data": {
      "text/plain": [
       "170.34400000000002"
      ]
     },
     "execution_count": 6,
     "metadata": {},
     "output_type": "execute_result"
    }
   ],
   "source": [
    "get_par_score_when_first_innings_is_completed_and_second_innings_is_interrupted(\n",
    "20, 214, 20, 0.3, 0, 15\n",
    ")"
   ]
  },
  {
   "cell_type": "markdown",
   "id": "05f66cf6-2bfd-4b95-b88c-5b94bc0615a7",
   "metadata": {},
   "source": [
    "### Scenario 2 --> Finding the parscore when First Innings is completed and Second innings is cut short in the Middle"
   ]
  },
  {
   "cell_type": "markdown",
   "id": "720ca144-089f-4755-883c-438c8a9017f9",
   "metadata": {},
   "source": [
    "Example - IRE vs ENG - T20WC 22 League match"
   ]
  },
  {
   "cell_type": "code",
   "execution_count": 7,
   "id": "b4b95caf-0ef4-40de-864b-d2d527518869",
   "metadata": {},
   "outputs": [],
   "source": [
    "def get_par_score_when_first_innings_is_completed_and_second_innings_is_cut_short(\n",
    "    overs_available_to_team_one,\n",
    "    runs_scored_by_team_one,\n",
    "    overs_available_to_team_two_at_start,\n",
    "    overs_used_by_team_two_until_cutoff,\n",
    "    wickets_lost_by_team_two\n",
    "):\n",
    "    resource_for_0_wickets_lost = resource_table_df[\"0\"][::-1]\n",
    "    \n",
    "    balls_available_to_team_one_at_start = convert_overs_to_balls(overs_available_to_team_one)\n",
    "    balls_available_to_team_two_at_start = convert_overs_to_balls(overs_available_to_team_two_at_start)\n",
    "    balls_used_by_team_two_until_cutoff = convert_overs_to_balls(overs_used_by_team_two_until_cutoff)\n",
    "    balls_remaining_to_team_two = balls_available_to_team_two_at_start - balls_used_by_team_two_until_cutoff\n",
    "    \n",
    "    total_resource_available_to_team_one_at_start = np.interp(\n",
    "        balls_available_to_team_one_at_start, resource_table_df[\"balls\"][::-1], resource_for_0_wickets_lost\n",
    "    )\n",
    "    total_resource_available_to_team_two_at_start = np.interp(\n",
    "        balls_available_to_team_two_at_start, resource_table_df[\"balls\"][::-1], resource_for_0_wickets_lost\n",
    "    )\n",
    "    \n",
    "    team_two_remaining_resource = np.interp(\n",
    "        balls_remaining_to_team_two,\n",
    "        resource_table_df[\"balls\"][::-1],\n",
    "        resource_table_df[f\"{wickets_lost_by_team_two}\"][::-1]\n",
    "    )\n",
    "    \n",
    "    team_two_available_resource = total_resource_available_to_team_two_at_start - team_two_remaining_resource\n",
    "    \n",
    "    par_score = runs_scored_by_team_one * (team_two_available_resource/total_resource_available_to_team_one_at_start)\n",
    "    \n",
    "    return par_score\n"
   ]
  },
  {
   "cell_type": "code",
   "execution_count": 8,
   "id": "f72c2b68-09a7-49ae-95e9-f4d836b7c043",
   "metadata": {},
   "outputs": [
    {
     "data": {
      "text/plain": [
       "110.99900000000001"
      ]
     },
     "execution_count": 8,
     "metadata": {},
     "output_type": "execute_result"
    }
   ],
   "source": [
    "get_par_score_when_first_innings_is_completed_and_second_innings_is_cut_short(\n",
    "20, 157, 20, 14.3, 5\n",
    ")"
   ]
  },
  {
   "cell_type": "markdown",
   "id": "54abca30-9003-4e52-98f7-7d82bba491b6",
   "metadata": {},
   "source": [
    "### Scenario 3 --> Finding the parscore when First Innings is completed and Second innings is delayed"
   ]
  },
  {
   "cell_type": "markdown",
   "id": "90b8b9de-e226-4bd9-974c-48ace2c3cf62",
   "metadata": {},
   "source": [
    "Example - WI vs BANGLA - 1st T20I 2018\n",
    "https://www.espncricinfo.com/series/bangladesh-in-wi-and-usa-2018-1146712/west-indies-vs-bangladesh-1st-t20i-1146723/ball-by-ball-commentary"
   ]
  },
  {
   "cell_type": "code",
   "execution_count": 9,
   "id": "d514958c-04a4-4528-8e17-3b27de9f8d3c",
   "metadata": {},
   "outputs": [],
   "source": [
    "def get_par_score_when_first_innings_is_completed_and_second_innings_is_delayed(\n",
    "    overs_available_to_team_one,\n",
    "    runs_scored_by_team_one,\n",
    "    overs_available_to_team_two_at_start\n",
    "):\n",
    "    resource_for_0_wickets_lost = resource_table_df[\"0\"][::-1]\n",
    "    \n",
    "    balls_available_to_team_one_at_start = convert_overs_to_balls(overs_available_to_team_one)\n",
    "    balls_available_to_team_two_at_start = convert_overs_to_balls(overs_available_to_team_two_at_start)\n",
    "    \n",
    "    total_resource_available_to_team_one_at_start = np.interp(\n",
    "        balls_available_to_team_one_at_start, resource_table_df[\"balls\"][::-1], resource_for_0_wickets_lost\n",
    "    )\n",
    "    total_resource_available_to_team_two_at_start = np.interp(\n",
    "        balls_available_to_team_two_at_start, resource_table_df[\"balls\"][::-1], resource_for_0_wickets_lost\n",
    "    )\n",
    "    \n",
    "    par_score = runs_scored_by_team_one * (total_resource_available_to_team_two_at_start/total_resource_available_to_team_one_at_start)\n",
    "    \n",
    "    return par_score"
   ]
  },
  {
   "cell_type": "code",
   "execution_count": 10,
   "id": "a908f313-fed2-4e1e-a38d-b0b268be7f81",
   "metadata": {},
   "outputs": [
    {
     "data": {
      "text/plain": [
       "88.231"
      ]
     },
     "execution_count": 10,
     "metadata": {},
     "output_type": "execute_result"
    }
   ],
   "source": [
    "get_par_score_when_first_innings_is_completed_and_second_innings_is_delayed(\n",
    "20, 143, 11\n",
    ")"
   ]
  },
  {
   "cell_type": "markdown",
   "id": "41a840cb-50a3-453d-a377-8f107b033abb",
   "metadata": {},
   "source": [
    "### Scenario 4 --> Finding the parscore when First Innings is Cut short and Second innings is completed"
   ]
  },
  {
   "cell_type": "code",
   "execution_count": 14,
   "id": "8d8c6212-cb1b-425d-965a-b003cf8454bb",
   "metadata": {},
   "outputs": [],
   "source": [
    "def get_par_score_when_first_innings_is_cut_short(\n",
    "    overs_available_to_team_one_at_start,\n",
    "    runs_scored_by_team_one,\n",
    "    wickets_lost_by_team_one,\n",
    "    overs_used_by_team_one_until_interruption,\n",
    "    overs_available_to_team_two\n",
    "):\n",
    "    resource_for_0_wickets_lost = resource_table_df[\"0\"][::-1]\n",
    "    \n",
    "    balls_available_to_team_one_at_start = convert_overs_to_balls(overs_available_to_team_one_at_start)\n",
    "    balls_used_by_team_one_until_interruption = convert_overs_to_balls(overs_used_by_team_one_until_interruption)\n",
    "    balls_remaining_to_team_one_during_interruption = balls_available_to_team_one_at_start - balls_used_by_team_one_until_interruption\n",
    "    balls_available_to_team_two = convert_overs_to_balls(overs_available_to_team_two)\n",
    "    \n",
    "    # g 50 score is the estimated score that could had been scored by team one if there were no interruption for TEAM ONE\n",
    "    # There are many different aspects to be considered to find the g50 score like the team past potential, the kind of pitch they are playing, etc.,\n",
    "    # For sake of simplicity, we are calculating the g50 score by projecting the team's run rate for the full overs that were alloted to them at start\n",
    "    g_50_score = (runs_scored_by_team_one/balls_used_by_team_one_until_interruption)*balls_available_to_team_one_at_start\n",
    "    \n",
    "    total_resource_available_to_team_one_at_start = np.interp(\n",
    "        balls_available_to_team_one_at_start, resource_table_df[\"balls\"][::-1], resource_for_0_wickets_lost\n",
    "    )\n",
    "    team_one_remaining_resource_during_interruption = np.interp(\n",
    "        balls_remaining_to_team_one_during_interruption,\n",
    "        resource_table_df[\"balls\"][::-1],\n",
    "        resource_table_df[f\"{wickets_lost_by_team_one}\"][::-1]\n",
    "    )\n",
    "    total_resource_used_by_team_one = total_resource_available_to_team_one_at_start - team_one_remaining_resource_during_interruption\n",
    "    \n",
    "    total_resource_available_to_team_two = np.interp(\n",
    "        balls_available_to_team_two, resource_table_df[\"balls\"][::-1], resource_for_0_wickets_lost\n",
    "    )\n",
    "    \n",
    "    par_score = runs_scored_by_team_one + (g_50_score * (total_resource_available_to_team_two - total_resource_used_by_team_one))/100\n",
    "    \n",
    "    return par_score"
   ]
  },
  {
   "cell_type": "markdown",
   "id": "c9942073-1c34-487c-bb02-ff19b0791f08",
   "metadata": {},
   "source": [
    "IND vs AUS first t20i 2017"
   ]
  },
  {
   "cell_type": "code",
   "execution_count": 12,
   "id": "8038f7b7-aab2-450d-9db4-da87b4be2c2f",
   "metadata": {},
   "outputs": [
    {
     "data": {
      "text/plain": [
       "45.85142857142857"
      ]
     },
     "execution_count": 12,
     "metadata": {},
     "output_type": "execute_result"
    }
   ],
   "source": [
    "get_par_score_when_first_innings_is_cut_short(\n",
    "20, 118, 8, 18.4, 6\n",
    ")"
   ]
  },
  {
   "cell_type": "markdown",
   "id": "c79ecb1d-3bda-413c-9db0-37d5f1450956",
   "metadata": {},
   "source": [
    "AUS vs IND First T20I 2018 Nov"
   ]
  },
  {
   "cell_type": "code",
   "execution_count": 15,
   "id": "415ce273-ed48-4097-ae4e-75be5b2db700",
   "metadata": {},
   "outputs": [
    {
     "data": {
      "text/plain": [
       "173.1158762886598"
      ]
     },
     "execution_count": 15,
     "metadata": {},
     "output_type": "execute_result"
    }
   ],
   "source": [
    "get_par_score_when_first_innings_is_cut_short(\n",
    "20, 158, 3, 16.1, 16.1\n",
    ")"
   ]
  },
  {
   "cell_type": "code",
   "execution_count": null,
   "id": "909247e4-9c8a-4546-9015-29d635ec623d",
   "metadata": {},
   "outputs": [],
   "source": []
  }
 ],
 "metadata": {
  "kernelspec": {
   "display_name": "ml",
   "language": "python",
   "name": "ml"
  },
  "language_info": {
   "codemirror_mode": {
    "name": "ipython",
    "version": 3
   },
   "file_extension": ".py",
   "mimetype": "text/x-python",
   "name": "python",
   "nbconvert_exporter": "python",
   "pygments_lexer": "ipython3",
   "version": "3.9.0"
  }
 },
 "nbformat": 4,
 "nbformat_minor": 5
}
